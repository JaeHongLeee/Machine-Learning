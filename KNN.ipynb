{
  "nbformat": 4,
  "nbformat_minor": 0,
  "metadata": {
    "colab": {
      "name": "KNN.ipynb",
      "provenance": [],
      "collapsed_sections": [],
      "authorship_tag": "ABX9TyP9B9bxMS3JtwnnaGKLEr9U",
      "include_colab_link": true
    },
    "kernelspec": {
      "name": "python3",
      "display_name": "Python 3"
    },
    "language_info": {
      "name": "python"
    },
    "widgets": {
      "application/vnd.jupyter.widget-state+json": {
        "cc305bee0dd341b7bb3aa8a846e40dc0": {
          "model_module": "@jupyter-widgets/controls",
          "model_name": "HBoxModel",
          "model_module_version": "1.5.0",
          "state": {
            "_view_name": "HBoxView",
            "_dom_classes": [],
            "_model_name": "HBoxModel",
            "_view_module": "@jupyter-widgets/controls",
            "_model_module_version": "1.5.0",
            "_view_count": null,
            "_view_module_version": "1.5.0",
            "box_style": "",
            "layout": "IPY_MODEL_a419b5d5fda446e59b50e09734d813d3",
            "_model_module": "@jupyter-widgets/controls",
            "children": [
              "IPY_MODEL_3bbee376794442239491b9bff721b181",
              "IPY_MODEL_d10e01045e4e4a9e8802841b1bd1d901",
              "IPY_MODEL_5fdf231d22624640972dcf98f58a247e"
            ]
          }
        },
        "a419b5d5fda446e59b50e09734d813d3": {
          "model_module": "@jupyter-widgets/base",
          "model_name": "LayoutModel",
          "model_module_version": "1.2.0",
          "state": {
            "_view_name": "LayoutView",
            "grid_template_rows": null,
            "right": null,
            "justify_content": null,
            "_view_module": "@jupyter-widgets/base",
            "overflow": null,
            "_model_module_version": "1.2.0",
            "_view_count": null,
            "flex_flow": null,
            "width": null,
            "min_width": null,
            "border": null,
            "align_items": null,
            "bottom": null,
            "_model_module": "@jupyter-widgets/base",
            "top": null,
            "grid_column": null,
            "overflow_y": null,
            "overflow_x": null,
            "grid_auto_flow": null,
            "grid_area": null,
            "grid_template_columns": null,
            "flex": null,
            "_model_name": "LayoutModel",
            "justify_items": null,
            "grid_row": null,
            "max_height": null,
            "align_content": null,
            "visibility": null,
            "align_self": null,
            "height": null,
            "min_height": null,
            "padding": null,
            "grid_auto_rows": null,
            "grid_gap": null,
            "max_width": null,
            "order": null,
            "_view_module_version": "1.2.0",
            "grid_template_areas": null,
            "object_position": null,
            "object_fit": null,
            "grid_auto_columns": null,
            "margin": null,
            "display": null,
            "left": null
          }
        },
        "3bbee376794442239491b9bff721b181": {
          "model_module": "@jupyter-widgets/controls",
          "model_name": "HTMLModel",
          "model_module_version": "1.5.0",
          "state": {
            "_view_name": "HTMLView",
            "style": "IPY_MODEL_0f1fa83897184ca287eac9c2e768404b",
            "_dom_classes": [],
            "description": "",
            "_model_name": "HTMLModel",
            "placeholder": "​",
            "_view_module": "@jupyter-widgets/controls",
            "_model_module_version": "1.5.0",
            "value": "",
            "_view_count": null,
            "_view_module_version": "1.5.0",
            "description_tooltip": null,
            "_model_module": "@jupyter-widgets/controls",
            "layout": "IPY_MODEL_9ae0ea9cadb8464ab23638b927097f12"
          }
        },
        "d10e01045e4e4a9e8802841b1bd1d901": {
          "model_module": "@jupyter-widgets/controls",
          "model_name": "FloatProgressModel",
          "model_module_version": "1.5.0",
          "state": {
            "_view_name": "ProgressView",
            "style": "IPY_MODEL_770021a093c042cd85707c71ec259c88",
            "_dom_classes": [],
            "description": "",
            "_model_name": "FloatProgressModel",
            "bar_style": "success",
            "max": 170498071,
            "_view_module": "@jupyter-widgets/controls",
            "_model_module_version": "1.5.0",
            "value": 170498071,
            "_view_count": null,
            "_view_module_version": "1.5.0",
            "orientation": "horizontal",
            "min": 0,
            "description_tooltip": null,
            "_model_module": "@jupyter-widgets/controls",
            "layout": "IPY_MODEL_bcc913e99e4c41b8a00f32f1f49cd14e"
          }
        },
        "5fdf231d22624640972dcf98f58a247e": {
          "model_module": "@jupyter-widgets/controls",
          "model_name": "HTMLModel",
          "model_module_version": "1.5.0",
          "state": {
            "_view_name": "HTMLView",
            "style": "IPY_MODEL_0abd4ada0e95423a9e576e9afec286c0",
            "_dom_classes": [],
            "description": "",
            "_model_name": "HTMLModel",
            "placeholder": "​",
            "_view_module": "@jupyter-widgets/controls",
            "_model_module_version": "1.5.0",
            "value": " 170499072/? [00:02&lt;00:00, 80895756.62it/s]",
            "_view_count": null,
            "_view_module_version": "1.5.0",
            "description_tooltip": null,
            "_model_module": "@jupyter-widgets/controls",
            "layout": "IPY_MODEL_1563a8caf2164b6b9b404971b66469ca"
          }
        },
        "0f1fa83897184ca287eac9c2e768404b": {
          "model_module": "@jupyter-widgets/controls",
          "model_name": "DescriptionStyleModel",
          "model_module_version": "1.5.0",
          "state": {
            "_view_name": "StyleView",
            "_model_name": "DescriptionStyleModel",
            "description_width": "",
            "_view_module": "@jupyter-widgets/base",
            "_model_module_version": "1.5.0",
            "_view_count": null,
            "_view_module_version": "1.2.0",
            "_model_module": "@jupyter-widgets/controls"
          }
        },
        "9ae0ea9cadb8464ab23638b927097f12": {
          "model_module": "@jupyter-widgets/base",
          "model_name": "LayoutModel",
          "model_module_version": "1.2.0",
          "state": {
            "_view_name": "LayoutView",
            "grid_template_rows": null,
            "right": null,
            "justify_content": null,
            "_view_module": "@jupyter-widgets/base",
            "overflow": null,
            "_model_module_version": "1.2.0",
            "_view_count": null,
            "flex_flow": null,
            "width": null,
            "min_width": null,
            "border": null,
            "align_items": null,
            "bottom": null,
            "_model_module": "@jupyter-widgets/base",
            "top": null,
            "grid_column": null,
            "overflow_y": null,
            "overflow_x": null,
            "grid_auto_flow": null,
            "grid_area": null,
            "grid_template_columns": null,
            "flex": null,
            "_model_name": "LayoutModel",
            "justify_items": null,
            "grid_row": null,
            "max_height": null,
            "align_content": null,
            "visibility": null,
            "align_self": null,
            "height": null,
            "min_height": null,
            "padding": null,
            "grid_auto_rows": null,
            "grid_gap": null,
            "max_width": null,
            "order": null,
            "_view_module_version": "1.2.0",
            "grid_template_areas": null,
            "object_position": null,
            "object_fit": null,
            "grid_auto_columns": null,
            "margin": null,
            "display": null,
            "left": null
          }
        },
        "770021a093c042cd85707c71ec259c88": {
          "model_module": "@jupyter-widgets/controls",
          "model_name": "ProgressStyleModel",
          "model_module_version": "1.5.0",
          "state": {
            "_view_name": "StyleView",
            "_model_name": "ProgressStyleModel",
            "description_width": "",
            "_view_module": "@jupyter-widgets/base",
            "_model_module_version": "1.5.0",
            "_view_count": null,
            "_view_module_version": "1.2.0",
            "bar_color": null,
            "_model_module": "@jupyter-widgets/controls"
          }
        },
        "bcc913e99e4c41b8a00f32f1f49cd14e": {
          "model_module": "@jupyter-widgets/base",
          "model_name": "LayoutModel",
          "model_module_version": "1.2.0",
          "state": {
            "_view_name": "LayoutView",
            "grid_template_rows": null,
            "right": null,
            "justify_content": null,
            "_view_module": "@jupyter-widgets/base",
            "overflow": null,
            "_model_module_version": "1.2.0",
            "_view_count": null,
            "flex_flow": null,
            "width": null,
            "min_width": null,
            "border": null,
            "align_items": null,
            "bottom": null,
            "_model_module": "@jupyter-widgets/base",
            "top": null,
            "grid_column": null,
            "overflow_y": null,
            "overflow_x": null,
            "grid_auto_flow": null,
            "grid_area": null,
            "grid_template_columns": null,
            "flex": null,
            "_model_name": "LayoutModel",
            "justify_items": null,
            "grid_row": null,
            "max_height": null,
            "align_content": null,
            "visibility": null,
            "align_self": null,
            "height": null,
            "min_height": null,
            "padding": null,
            "grid_auto_rows": null,
            "grid_gap": null,
            "max_width": null,
            "order": null,
            "_view_module_version": "1.2.0",
            "grid_template_areas": null,
            "object_position": null,
            "object_fit": null,
            "grid_auto_columns": null,
            "margin": null,
            "display": null,
            "left": null
          }
        },
        "0abd4ada0e95423a9e576e9afec286c0": {
          "model_module": "@jupyter-widgets/controls",
          "model_name": "DescriptionStyleModel",
          "model_module_version": "1.5.0",
          "state": {
            "_view_name": "StyleView",
            "_model_name": "DescriptionStyleModel",
            "description_width": "",
            "_view_module": "@jupyter-widgets/base",
            "_model_module_version": "1.5.0",
            "_view_count": null,
            "_view_module_version": "1.2.0",
            "_model_module": "@jupyter-widgets/controls"
          }
        },
        "1563a8caf2164b6b9b404971b66469ca": {
          "model_module": "@jupyter-widgets/base",
          "model_name": "LayoutModel",
          "model_module_version": "1.2.0",
          "state": {
            "_view_name": "LayoutView",
            "grid_template_rows": null,
            "right": null,
            "justify_content": null,
            "_view_module": "@jupyter-widgets/base",
            "overflow": null,
            "_model_module_version": "1.2.0",
            "_view_count": null,
            "flex_flow": null,
            "width": null,
            "min_width": null,
            "border": null,
            "align_items": null,
            "bottom": null,
            "_model_module": "@jupyter-widgets/base",
            "top": null,
            "grid_column": null,
            "overflow_y": null,
            "overflow_x": null,
            "grid_auto_flow": null,
            "grid_area": null,
            "grid_template_columns": null,
            "flex": null,
            "_model_name": "LayoutModel",
            "justify_items": null,
            "grid_row": null,
            "max_height": null,
            "align_content": null,
            "visibility": null,
            "align_self": null,
            "height": null,
            "min_height": null,
            "padding": null,
            "grid_auto_rows": null,
            "grid_gap": null,
            "max_width": null,
            "order": null,
            "_view_module_version": "1.2.0",
            "grid_template_areas": null,
            "object_position": null,
            "object_fit": null,
            "grid_auto_columns": null,
            "margin": null,
            "display": null,
            "left": null
          }
        }
      }
    }
  },
  "cells": [
    {
      "cell_type": "markdown",
      "metadata": {
        "id": "view-in-github",
        "colab_type": "text"
      },
      "source": [
        "<a href=\"https://colab.research.google.com/github/JaeHongLeee/Machine-Learning/blob/main/KNN.ipynb\" target=\"_parent\"><img src=\"https://colab.research.google.com/assets/colab-badge.svg\" alt=\"Open In Colab\"/></a>"
      ]
    },
    {
      "cell_type": "code",
      "execution_count": null,
      "metadata": {
        "id": "WQwqjrgzGwTW",
        "colab": {
          "base_uri": "https://localhost:8080/",
          "height": 103,
          "referenced_widgets": [
            "cc305bee0dd341b7bb3aa8a846e40dc0",
            "a419b5d5fda446e59b50e09734d813d3",
            "3bbee376794442239491b9bff721b181",
            "d10e01045e4e4a9e8802841b1bd1d901",
            "5fdf231d22624640972dcf98f58a247e",
            "0f1fa83897184ca287eac9c2e768404b",
            "9ae0ea9cadb8464ab23638b927097f12",
            "770021a093c042cd85707c71ec259c88",
            "bcc913e99e4c41b8a00f32f1f49cd14e",
            "0abd4ada0e95423a9e576e9afec286c0",
            "1563a8caf2164b6b9b404971b66469ca"
          ]
        },
        "outputId": "49f7e51a-e842-4079-a888-346d2c8d5a74"
      },
      "outputs": [
        {
          "output_type": "stream",
          "name": "stdout",
          "text": [
            "Downloading https://www.cs.toronto.edu/~kriz/cifar-10-python.tar.gz to ./data/cifar-10-python.tar.gz\n"
          ]
        },
        {
          "output_type": "display_data",
          "data": {
            "application/vnd.jupyter.widget-view+json": {
              "model_id": "cc305bee0dd341b7bb3aa8a846e40dc0",
              "version_minor": 0,
              "version_major": 2
            },
            "text/plain": [
              "  0%|          | 0/170498071 [00:00<?, ?it/s]"
            ]
          },
          "metadata": {}
        },
        {
          "output_type": "stream",
          "name": "stdout",
          "text": [
            "Extracting ./data/cifar-10-python.tar.gz to ./data\n",
            "Files already downloaded and verified\n"
          ]
        }
      ],
      "source": [
        "import torch\n",
        "import torchvision\n",
        "import torchvision.transforms as transforms\n",
        "\n",
        "transform = transforms.Compose([transforms.ToTensor(), transforms.Normalize((0.5, 0.5, 0.5), (0.5, 0.5, 0.5))])\n",
        "\n",
        "batch_size = 4\n",
        "\n",
        "trainset = torchvision.datasets.CIFAR10(root='./data', train=True, download=True, transform=transform)\n",
        "trainloader = torch.utils.data.DataLoader(trainset, batch_size=batch_size, shuffle=True, num_workers=2)\n",
        "testset = torchvision.datasets.CIFAR10(root='./data', train=False, download=True, transform=transform)\n",
        "testloader = torch.utils.data.DataLoader(testset, batch_size=batch_size, shuffle=False, num_workers=2)\n",
        "\n",
        "classes = ('plane', 'car', 'bird', 'cat', 'deer', 'dog', 'frog', 'horse', 'ship', 'truck')"
      ]
    },
    {
      "cell_type": "code",
      "source": [
        "from builtins import range\n",
        "from builtins import object\n",
        "from past.builtins import xrange\n",
        "\n",
        "class KNearestNeighbor(object):\n",
        "\n",
        "  def __init__(self):\n",
        "    pass\n",
        "\n",
        "  def train(self, X, y):  # X는 학습 이미지, y는 해당 이미지 레이블 \n",
        "                            # 메모리 상에 기억할 수 있게 할당하는 부분\n",
        "    \n",
        "    self.X_train = X\n",
        "    self.y_train = y \n",
        "    "
      ],
      "metadata": {
        "id": "--awxknq-59Z",
        "colab": {
          "base_uri": "https://localhost:8080/",
          "height": 136
        },
        "outputId": "dd6d02c0-4bdf-4d62-fa2d-ae60650e226c"
      },
      "execution_count": null,
      "outputs": [
        {
          "output_type": "error",
          "ename": "IndentationError",
          "evalue": "ignored",
          "traceback": [
            "\u001b[0;36m  File \u001b[0;32m\"<ipython-input-2-204b615161f4>\"\u001b[0;36m, line \u001b[0;32m22\u001b[0m\n\u001b[0;31m    self.X_train = X\u001b[0m\n\u001b[0m                    ^\u001b[0m\n\u001b[0;31mIndentationError\u001b[0m\u001b[0;31m:\u001b[0m unindent does not match any outer indentation level\n"
          ]
        }
      ]
    },
    {
      "cell_type": "markdown",
      "source": [
        "New Code"
      ],
      "metadata": {
        "id": "9qD2Kc8HB7V6"
      }
    },
    {
      "cell_type": "code",
      "source": [
        "import sys\n",
        "print(sys.version)"
      ],
      "metadata": {
        "colab": {
          "base_uri": "https://localhost:8080/"
        },
        "id": "NdgwMePQK_nP",
        "outputId": "9c46b88a-f197-4623-8232-5463f177d475"
      },
      "execution_count": 33,
      "outputs": [
        {
          "output_type": "stream",
          "name": "stdout",
          "text": [
            "3.7.12 (default, Sep 10 2021, 00:21:48) \n",
            "[GCC 7.5.0]\n"
          ]
        }
      ]
    },
    {
      "cell_type": "code",
      "source": [
        "import pickle \n",
        "import numpy as np\n",
        "from google.colab import drive\n",
        "drive.mount('/content/drive')\n"
      ],
      "metadata": {
        "colab": {
          "base_uri": "https://localhost:8080/"
        },
        "id": "V09YOycYRLIF",
        "outputId": "3b889493-27b5-4754-bf69-1b82193788ac"
      },
      "execution_count": 1,
      "outputs": [
        {
          "output_type": "stream",
          "name": "stdout",
          "text": [
            "Mounted at /content/drive\n"
          ]
        }
      ]
    },
    {
      "cell_type": "code",
      "source": [
        "\n",
        "K = 3\n",
        "\n",
        "def unpickle(file):\n",
        "  with open(file, 'rb') as fo:\n",
        "    cifar_dict = pickle.load(fo, encoding ='bytes')\n",
        "  return cifar_dict\n",
        "\n",
        "data_batch_1 = unpickle('/content/drive/My Drive/CIFAR-10_file/cifar-10-batches-py/data_batch_1')\n",
        "data_batch_2 = unpickle('/content/drive/My Drive/CIFAR-10_file/cifar-10-batches-py/data_batch_2')\n",
        "data_batch_3 = unpickle('/content/drive/My Drive/CIFAR-10_file/cifar-10-batches-py/data_batch_3')\n",
        "data_batch_4 = unpickle('/content/drive/My Drive/CIFAR-10_file/cifar-10-batches-py/data_batch_4')\n",
        "data_batch_5 = unpickle('/content/drive/My Drive/CIFAR-10_file/cifar-10-batches-py/data_batch_5')\n",
        "test_batch = unpickle('/content/drive/My Drive/CIFAR-10_file/cifar-10-batches-py/test_batch')\n",
        "\n",
        "def L1_distance(x, y):\n",
        "  return np.abs(np.sum(x-y))\n",
        "\n",
        "def L2_distance(x, y):\n",
        "  return np.sqrt(np.abs(np.sum((x-y) ** 2)))\n",
        "  \n",
        "batches = {'data': [], 'label': []}\n",
        "\n",
        "def train(data, labels):\n",
        "  batches['data'].extend(data)\n",
        "  batches['label'].extend(labels)\n",
        "\n",
        "def predict(item, distance = L1_distance):\n",
        "  min_values = []\n",
        "  min_labels = []\n",
        "\n",
        "  data = batches['data']\n",
        "  labels = batches['label']\n",
        "\n",
        "  for index in range(len(data)):\n",
        "        d = distance(item, data[index])\n",
        "\n",
        "        if len(min_values) < K:\n",
        "          min_values.append(d)\n",
        "          min_labels.append(labels[index])\n",
        "        elif max(min_values) > d:\n",
        "          removed_item_index = min_values.index(max(min_values))\n",
        "          min_values[removed_item_index] = d\n",
        "          min_labels[removed_item_index] = labels[index]\n",
        "\n",
        "  majority = max(min_labels, key=min_labels.count)\n",
        "\n",
        "  return majority"
      ],
      "metadata": {
        "id": "RD57sHMQ6cyz"
      },
      "execution_count": 26,
      "outputs": []
    },
    {
      "cell_type": "code",
      "source": [
        "print(\"key of data_batch_1: \", data_batch_1.keys())\n",
        "print(\"the number of images in data_batch_1: \", len(data_batch_1[b'labels']))\n",
        "print(\"the number of images in test_batch: \", len(test_batch[b'labels']))"
      ],
      "metadata": {
        "colab": {
          "base_uri": "https://localhost:8080/"
        },
        "id": "7lFFzqObYyYj",
        "outputId": "703f69f9-251a-492f-8ea8-1f2d36dd9750"
      },
      "execution_count": 27,
      "outputs": [
        {
          "output_type": "stream",
          "name": "stdout",
          "text": [
            "key of data_batch_1:  dict_keys([b'batch_label', b'labels', b'data', b'filenames'])\n",
            "the number of images in data_batch_1:  10000\n",
            "the number of images in test_batch:  10000\n"
          ]
        }
      ]
    },
    {
      "cell_type": "code",
      "source": [
        "train(data_batch_1[b'data'], data_batch_1[b'labels'])"
      ],
      "metadata": {
        "id": "50U-6vrOY93a"
      },
      "execution_count": 28,
      "outputs": []
    },
    {
      "cell_type": "code",
      "source": [
        "correct_l1 = 0\n",
        "correct_l2 = 0\n",
        "\n",
        "count = 0\n",
        "\n",
        "for index in range(len(test_batch[b'data'])):\n",
        "    data = test_batch[b'data'][index]\n",
        "    label = test_batch[b'labels'][index]\n",
        "\n",
        "    kNN_output = predict(data)\n",
        "    kNN_output_l2 = predict(data, distance=L2_distance)\n",
        "\n",
        "    if kNN_output == label:\n",
        "        correct_l1 += 1\n",
        "    if kNN_output_l2 == label:\n",
        "        correct_l2 += 1\n",
        "    count += 1\n",
        "\n",
        "    print(f\"index {index}, label is {label}, and predicted label is {kNN_output} and {kNN_output_l2}\")\n",
        "\n",
        "    if count == 100:\n",
        "        break"
      ],
      "metadata": {
        "colab": {
          "base_uri": "https://localhost:8080/"
        },
        "id": "XivofUgVZCY7",
        "outputId": "40acf4c8-b7c9-45fa-b5ac-3ccf2846b186"
      },
      "execution_count": 29,
      "outputs": [
        {
          "output_type": "stream",
          "name": "stdout",
          "text": [
            "index 0, label is 3, and predicted label is 6 and 4\n",
            "index 1, label is 8, and predicted label is 1 and 8\n",
            "index 2, label is 8, and predicted label is 1 and 8\n",
            "index 3, label is 0, and predicted label is 8 and 0\n",
            "index 4, label is 6, and predicted label is 6 and 4\n",
            "index 5, label is 6, and predicted label is 4 and 8\n",
            "index 6, label is 1, and predicted label is 2 and 6\n",
            "index 7, label is 6, and predicted label is 2 and 2\n",
            "index 8, label is 3, and predicted label is 4 and 7\n",
            "index 9, label is 1, and predicted label is 1 and 3\n",
            "index 10, label is 0, and predicted label is 0 and 8\n",
            "index 11, label is 9, and predicted label is 6 and 9\n",
            "index 12, label is 5, and predicted label is 8 and 8\n",
            "index 13, label is 7, and predicted label is 6 and 2\n",
            "index 14, label is 9, and predicted label is 6 and 9\n",
            "index 15, label is 8, and predicted label is 4 and 9\n",
            "index 16, label is 5, and predicted label is 3 and 0\n",
            "index 17, label is 7, and predicted label is 4 and 0\n",
            "index 18, label is 8, and predicted label is 0 and 1\n",
            "index 19, label is 6, and predicted label is 6 and 3\n",
            "index 20, label is 7, and predicted label is 3 and 4\n",
            "index 21, label is 0, and predicted label is 0 and 6\n",
            "index 22, label is 4, and predicted label is 0 and 0\n",
            "index 23, label is 9, and predicted label is 3 and 0\n",
            "index 24, label is 5, and predicted label is 2 and 0\n",
            "index 25, label is 2, and predicted label is 3 and 8\n",
            "index 26, label is 4, and predicted label is 3 and 8\n",
            "index 27, label is 0, and predicted label is 0 and 0\n",
            "index 28, label is 9, and predicted label is 5 and 9\n",
            "index 29, label is 6, and predicted label is 2 and 8\n",
            "index 30, label is 6, and predicted label is 2 and 3\n",
            "index 31, label is 5, and predicted label is 4 and 0\n",
            "index 32, label is 4, and predicted label is 6 and 0\n",
            "index 33, label is 5, and predicted label is 7 and 3\n",
            "index 34, label is 9, and predicted label is 5 and 3\n",
            "index 35, label is 2, and predicted label is 7 and 8\n",
            "index 36, label is 4, and predicted label is 8 and 6\n",
            "index 37, label is 1, and predicted label is 9 and 8\n",
            "index 38, label is 9, and predicted label is 6 and 0\n",
            "index 39, label is 5, and predicted label is 4 and 0\n",
            "index 40, label is 4, and predicted label is 8 and 8\n",
            "index 41, label is 6, and predicted label is 2 and 2\n",
            "index 42, label is 5, and predicted label is 1 and 6\n",
            "index 43, label is 6, and predicted label is 0 and 2\n",
            "index 44, label is 0, and predicted label is 0 and 2\n",
            "index 45, label is 9, and predicted label is 0 and 0\n",
            "index 46, label is 3, and predicted label is 3 and 3\n",
            "index 47, label is 9, and predicted label is 3 and 2\n",
            "index 48, label is 7, and predicted label is 6 and 2\n",
            "index 49, label is 6, and predicted label is 2 and 2\n",
            "index 50, label is 9, and predicted label is 0 and 2\n",
            "index 51, label is 8, and predicted label is 2 and 2\n",
            "index 52, label is 0, and predicted label is 2 and 2\n",
            "index 53, label is 3, and predicted label is 1 and 0\n",
            "index 54, label is 8, and predicted label is 8 and 1\n",
            "index 55, label is 8, and predicted label is 8 and 4\n",
            "index 56, label is 7, and predicted label is 3 and 6\n",
            "index 57, label is 7, and predicted label is 0 and 0\n",
            "index 58, label is 4, and predicted label is 7 and 8\n",
            "index 59, label is 6, and predicted label is 4 and 6\n",
            "index 60, label is 7, and predicted label is 7 and 0\n",
            "index 61, label is 3, and predicted label is 4 and 6\n",
            "index 62, label is 6, and predicted label is 0 and 7\n",
            "index 63, label is 3, and predicted label is 3 and 7\n",
            "index 64, label is 6, and predicted label is 6 and 2\n",
            "index 65, label is 2, and predicted label is 2 and 6\n",
            "index 66, label is 1, and predicted label is 4 and 1\n",
            "index 67, label is 2, and predicted label is 0 and 0\n",
            "index 68, label is 3, and predicted label is 0 and 2\n",
            "index 69, label is 7, and predicted label is 1 and 0\n",
            "index 70, label is 2, and predicted label is 4 and 2\n",
            "index 71, label is 6, and predicted label is 1 and 7\n",
            "index 72, label is 8, and predicted label is 8 and 2\n",
            "index 73, label is 8, and predicted label is 2 and 0\n",
            "index 74, label is 0, and predicted label is 8 and 1\n",
            "index 75, label is 2, and predicted label is 4 and 4\n",
            "index 76, label is 9, and predicted label is 9 and 0\n",
            "index 77, label is 3, and predicted label is 6 and 0\n",
            "index 78, label is 3, and predicted label is 0 and 2\n",
            "index 79, label is 8, and predicted label is 8 and 1\n",
            "index 80, label is 8, and predicted label is 8 and 8\n",
            "index 81, label is 1, and predicted label is 0 and 0\n",
            "index 82, label is 1, and predicted label is 2 and 0\n",
            "index 83, label is 7, and predicted label is 0 and 8\n",
            "index 84, label is 2, and predicted label is 8 and 8\n",
            "index 85, label is 5, and predicted label is 1 and 8\n",
            "index 86, label is 2, and predicted label is 2 and 2\n",
            "index 87, label is 7, and predicted label is 9 and 1\n",
            "index 88, label is 8, and predicted label is 0 and 8\n",
            "index 89, label is 9, and predicted label is 4 and 8\n",
            "index 90, label is 0, and predicted label is 8 and 0\n",
            "index 91, label is 3, and predicted label is 2 and 2\n",
            "index 92, label is 8, and predicted label is 8 and 0\n",
            "index 93, label is 6, and predicted label is 5 and 4\n",
            "index 94, label is 4, and predicted label is 2 and 0\n",
            "index 95, label is 6, and predicted label is 6 and 0\n",
            "index 96, label is 6, and predicted label is 3 and 2\n",
            "index 97, label is 0, and predicted label is 0 and 0\n",
            "index 98, label is 0, and predicted label is 0 and 0\n",
            "index 99, label is 7, and predicted label is 7 and 1\n"
          ]
        }
      ]
    },
    {
      "cell_type": "code",
      "source": [
        "print(\"accuracy of kNN using L1 distance: \", 100 * correct_l1 / count, \"%\")\n",
        "print(\"accuracy of kNN using L2 distance: \", 100 * correct_l2 / count, \"%\")"
      ],
      "metadata": {
        "colab": {
          "base_uri": "https://localhost:8080/"
        },
        "id": "v4wRWwbPaDBj",
        "outputId": "2e7a2959-3562-4b5e-85d4-be1f10f36aa0"
      },
      "execution_count": 30,
      "outputs": [
        {
          "output_type": "stream",
          "name": "stdout",
          "text": [
            "accuracy of kNN using L1 distance:  24.0 %\n",
            "accuracy of kNN using L2 distance:  17.0 %\n"
          ]
        }
      ]
    }
  ]
}