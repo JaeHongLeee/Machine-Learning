{
  "nbformat": 4,
  "nbformat_minor": 0,
  "metadata": {
    "colab": {
      "name": "corona_prediction_with_RNN.ipynb",
      "provenance": [],
      "collapsed_sections": [],
      "authorship_tag": "ABX9TyM31Su30GxLTWuXKJiUNGIo",
      "include_colab_link": true
    },
    "kernelspec": {
      "name": "python3",
      "display_name": "Python 3"
    },
    "language_info": {
      "name": "python"
    }
  },
  "cells": [
    {
      "cell_type": "markdown",
      "metadata": {
        "id": "view-in-github",
        "colab_type": "text"
      },
      "source": [
        "<a href=\"https://colab.research.google.com/github/JaeHongLeee/Machine-Learning/blob/main/corona_prediction_with_RNN.ipynb\" target=\"_parent\"><img src=\"https://colab.research.google.com/assets/colab-badge.svg\" alt=\"Open In Colab\"/></a>"
      ]
    },
    {
      "cell_type": "code",
      "execution_count": 24,
      "metadata": {
        "id": "-DwfPg-ZeVu3"
      },
      "outputs": [],
      "source": [
        "from keras.models import Sequential\n",
        "from keras.layers import SimpleRNN, Dense\n",
        "from sklearn.preprocessing import MinMaxScaler\n",
        "from sklearn.metrics import mean_squared_error\n",
        "from sklearn.model_selection import train_test_split\n",
        "import math\n",
        "import numpy as np\n",
        "import matplotlib.pyplot as plt\n",
        "from pandas import read_csv"
      ]
    },
    {
      "cell_type": "markdown",
      "source": [
        "RNN(순환 신경망) 알고리즘에 사용할 라이브러리 import\n"
      ],
      "metadata": {
        "id": "JbRTB4BThZ6J"
      }
    },
    {
      "cell_type": "code",
      "source": [
        "!git clone https://github.com/yhlee1627/deeplearning.git\n",
        "dataframe = read_csv('/content/deeplearning/corona_daily.csv', usecols=[3], engine='python')\n",
        "print(dataframe)\n",
        "dataset = dataframe.values\n",
        "dataset = dataset.astype('float32')"
      ],
      "metadata": {
        "colab": {
          "base_uri": "https://localhost:8080/"
        },
        "id": "FqtcajqxgNd5",
        "outputId": "1d8d5e59-662c-4f5d-b13a-a0daa17e3314"
      },
      "execution_count": 25,
      "outputs": [
        {
          "output_type": "stream",
          "name": "stdout",
          "text": [
            "Cloning into 'deeplearning'...\n",
            "remote: Enumerating objects: 5, done.\u001b[K\n",
            "remote: Counting objects: 100% (5/5), done.\u001b[K\n",
            "remote: Compressing objects: 100% (3/3), done.\u001b[K\n",
            "Unpacking objects: 100% (5/5), done.\n",
            "remote: Total 5 (delta 0), reused 0 (delta 0), pack-reused 0\u001b[K\n",
            "     Confirmed\n",
            "0           24\n",
            "1           24\n",
            "2           27\n",
            "3           27\n",
            "4           28\n",
            "..         ...\n",
            "110      11265\n",
            "111      11344\n",
            "112      11402\n",
            "113      11441\n",
            "114      11468\n",
            "\n",
            "[115 rows x 1 columns]\n"
          ]
        }
      ]
    },
    {
      "cell_type": "markdown",
      "source": [
        "github 사이트에서 데이터를 받아오고, 그 중 사용할 데이터를 뽑아 내서 배치함"
      ],
      "metadata": {
        "id": "UGcC8I-AlVQ3"
      }
    },
    {
      "cell_type": "code",
      "source": [
        "scaler = MinMaxScaler(feature_range=(0, 1))\n",
        "Dataset = scaler.fit_transform(dataset)\n",
        "train_data, test_data = train_test_split(Dataset, test_size=0.2, shuffle=False)\n",
        "print(len(train_data), len(test_data))\n"
      ],
      "metadata": {
        "colab": {
          "base_uri": "https://localhost:8080/"
        },
        "id": "D7FMD20ImZPO",
        "outputId": "d04f7e97-1c7f-41be-e05c-d9f98471488e"
      },
      "execution_count": null,
      "outputs": [
        {
          "output_type": "stream",
          "name": "stdout",
          "text": [
            "92 23\n"
          ]
        }
      ]
    },
    {
      "cell_type": "markdown",
      "source": [
        "데이터 정규화 및 분류함"
      ],
      "metadata": {
        "id": "3mEBW7cXm-U-"
      }
    },
    {
      "cell_type": "code",
      "source": [
        ""
      ],
      "metadata": {
        "id": "VpXOtJzknBfK"
      },
      "execution_count": null,
      "outputs": []
    }
  ]
}