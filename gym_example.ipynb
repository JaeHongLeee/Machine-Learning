{
 "cells": [
  {
   "cell_type": "code",
   "execution_count": null,
   "id": "215bc1ad",
   "metadata": {},
   "outputs": [],
   "source": [
    "import gym\n",
    "import numpy\n",
    "import random\n",
    "env = gym.make('CartPole-v1')\n",
    "goal_steps = 500\n",
    "\n",
    "while True:\n",
    "  obs = env.reset()\n",
    "  for i in range(goal_steps):\n",
    "    obs, reward, done, info = env.step(random.randrange(0, 2))\n",
    "    if done: break\n",
    "    env.render()"
   ]
  },
  {
   "cell_type": "code",
   "execution_count": null,
   "id": "e9ba85a3",
   "metadata": {},
   "outputs": [],
   "source": []
  }
 ],
 "metadata": {
  "kernelspec": {
   "display_name": "RL_gym",
   "language": "python",
   "name": "gym"
  },
  "language_info": {
   "codemirror_mode": {
    "name": "ipython",
    "version": 3
   },
   "file_extension": ".py",
   "mimetype": "text/x-python",
   "name": "python",
   "nbconvert_exporter": "python",
   "pygments_lexer": "ipython3",
   "version": "3.8.12"
  }
 },
 "nbformat": 4,
 "nbformat_minor": 5
}
